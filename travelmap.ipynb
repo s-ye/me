{
 "cells": [
  {
   "cell_type": "code",
   "execution_count": 1,
   "metadata": {},
   "outputs": [],
   "source": [
    "all_locations = {\n",
    "    \"1. Istanbul, Turkey: Could've spent a year here.\": [41.0082, 28.9784],\n",
    "    \"2. Athens, Greece: World leaders 2000 years ago, not so impressive today.\": [37.9838, 23.7275],\n",
    "    \"3. Vienna, Austria: Stunning. Opera is a big vibe.\": [48.2082, 16.3738],\n",
    "    \"4. Tirana, Albania: Enver Hoxha screwed these people bad.\": [41.3275, 19.8187],\n",
    "    \"5. Rome, Italy: Oh my god it's amazing.\": [41.9028, 12.4964],\n",
    "    \"6. Paris, France: Depressing in the winter, but I saw the Eiffel Tower hooray!\": [48.8566, 2.3522],\n",
    "    \"7. Stockholm, Sweden: Largest city in Scandanavia, very chill and full of beauty.\": [59.3293, 18.0686],\n",
    "    \"8. Reykjavik, Iceland: The capital city. Rent a car and do better.\": [64.1265, -21.8174],\n",
    "}\n",
    "\n",
    "countries_to_highlight = [\"China\", \"Mexico\", \"United States\", \"Canada\", \"Guatemala\", \"Honduras\", \"Spain\", \"United Kingdom\", \"Austria\", \"Italy\", \"France\", \"Sweden\", \"Iceland\", \"Greece\", \"Albania\", \"Türkiye\"]\n"
   ]
  },
  {
   "cell_type": "code",
   "execution_count": 2,
   "metadata": {},
   "outputs": [
    {
     "name": "stdout",
     "output_type": "stream",
     "text": [
      "Map has been saved to map_route.html\n",
      "Map has been saved to highlighted_countries_map.html\n"
     ]
    }
   ],
   "source": [
    "import folium\n",
    "import geopandas as gpd\n",
    "import pycountry\n",
    "from folium import IFrame\n",
    "\n",
    "def create_auto_centered_map(locations, output_file=\"map_route.html\"):\n",
    "    # Initialize map without specifying center and zoom\n",
    "    auto_center_map = folium.Map()\n",
    "\n",
    "    # Add all locations to the map\n",
    "    for location, coordinates in locations.items():\n",
    "        # Split location name and description\n",
    "        title, description = location.split(\": \", 1)\n",
    "        \n",
    "        # Generate link to corresponding .md file\n",
    "        # Create HTML content for popup with short description and link\n",
    "        html_content = f\"\"\"\n",
    "        <div style=\"font-family: Arial, sans-serif; font-size: 12px;\">\n",
    "            <b>{title}</b><br>\n",
    "            {description.split('.')[0]}.<br>\n",
    "        </div>\n",
    "        \"\"\"\n",
    "        iframe = IFrame(html_content, width=250, height=150)  # Adjust popup size\n",
    "\n",
    "        # Add marker with formatted popup\n",
    "        folium.Marker(\n",
    "            location=coordinates,\n",
    "            popup=folium.Popup(iframe),\n",
    "        ).add_to(auto_center_map)\n",
    "\n",
    "    # Add edges from i to i+1\n",
    "    locations_list = list(locations.values())\n",
    "    for i in range(len(locations_list) - 1):\n",
    "        folium.PolyLine(locations_list[i:i+2], color=\"blue\", weight=2.5, opacity=1).add_to(auto_center_map)\n",
    "\n",
    "    # Save map to HTML file\n",
    "    auto_center_map.save(output_file)\n",
    "    print(f\"Map has been saved to {output_file}\")\n",
    "\n",
    "def highlight_countries_on_map(countries, shapefile_path, output_file=\"highlighted_countries_map.html\"):\n",
    "    # Load the world shapefile from the local file\n",
    "    world = gpd.read_file(shapefile_path)\n",
    "\n",
    "    # Convert country names to ISO Alpha-3 codes using pycountry\n",
    "    country_codes = []\n",
    "    for country in countries:\n",
    "        try:\n",
    "            country_code = pycountry.countries.lookup(country).alpha_3\n",
    "            country_codes.append(country_code)\n",
    "        except LookupError:\n",
    "            print(f\"Warning: '{country}' not found in pycountry database.\")\n",
    "\n",
    "    # Filter for the specified countries by ISO code\n",
    "    highlighted = world[world[\"ADM0_A3\"].isin(country_codes)]\n",
    "\n",
    "    # Initialize a folium map centered globally\n",
    "    world_map = folium.Map(location=[20, 0], zoom_start=2)\n",
    "\n",
    "    # Add highlighted countries to the map in red\n",
    "    folium.GeoJson(\n",
    "        highlighted,\n",
    "        style_function=lambda x: {'fillColor': 'red', 'color': 'black', 'weight': 0.5, 'fillOpacity': 0.7}\n",
    "    ).add_to(world_map)\n",
    "\n",
    "    # Save the map to an HTML file\n",
    "    world_map.save(output_file)\n",
    "    print(f\"Map has been saved to {output_file}\")\n",
    "\n",
    "create_auto_centered_map(all_locations)\n",
    "\n",
    "# List of countries to highlight\n",
    "\n",
    "# Call the function to highlight countries and save to HTML\n",
    "highlight_countries_on_map(countries_to_highlight, shapefile_path=\"/Users/songye03/Desktop/me/ne_110m_admin_0_countries/ne_110m_admin_0_countries.shp\")"
   ]
  }
 ],
 "metadata": {
  "kernelspec": {
   "display_name": "geo_env",
   "language": "python",
   "name": "python3"
  },
  "language_info": {
   "codemirror_mode": {
    "name": "ipython",
    "version": 3
   },
   "file_extension": ".py",
   "mimetype": "text/x-python",
   "name": "python",
   "nbconvert_exporter": "python",
   "pygments_lexer": "ipython3",
   "version": "3.13.2"
  }
 },
 "nbformat": 4,
 "nbformat_minor": 2
}
