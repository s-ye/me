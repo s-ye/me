{
 "cells": [
  {
   "cell_type": "code",
   "execution_count": 6,
   "metadata": {},
   "outputs": [
    {
     "ename": "SyntaxError",
     "evalue": "invalid syntax (1145881997.py, line 12)",
     "output_type": "error",
     "traceback": [
      "\u001b[0;36m  Cell \u001b[0;32mIn[6], line 12\u001b[0;36m\u001b[0m\n\u001b[0;31m    countries_to_highlight = [\"China\", \"Mexico\", \"United States\", \"Canada\", \"Guatemala\", \"Honduras\", \"Spain\", \"United Kingdom\", \"Austria\", \"Italy\", \"France\", \"Sweden\", \"Iceland\", , \"Greece\", \"Albania\", \"Türkiye\"]\u001b[0m\n\u001b[0m                                                                                                                                                                                   ^\u001b[0m\n\u001b[0;31mSyntaxError\u001b[0m\u001b[0;31m:\u001b[0m invalid syntax\n"
     ]
    }
   ],
   "source": [
    "all_locations = {\n",
    "    \"1. Istanbul, Turkey: A city that straddles Europe and Asia across the Bosphorus Strait.\": [41.0082, 28.9784],\n",
    "    \"2. Athens, Greece: The capital city known for its ancient landmarks.\": [37.9838, 23.7275],\n",
    "    \"3. Vienna, Austria: Austria's capital, known for its artistic and intellectual legacy.\": [48.2082, 16.3738],\n",
    "    \"4. Tirana, Albania: The capital city of Albania, known for its colorful Ottoman, Fascist and Soviet-era architecture.\": [41.3275, 19.8187],\n",
    "    \"5. Rome, Italy: The capital city, known for its nearly 3,000 years of globally influential art, architecture, and culture.\": [41.9028, 12.4964],\n",
    "    \"6. Paris, France: The capital city, known for its cafe culture and landmarks like the Eiffel Tower.\": [48.8566, 2.3522],\n",
    "    \"7. Stockholm, Sweden: The capital city, encompassing 14 islands and more than 50 bridges.\": [59.3293, 18.0686],\n",
    "    \"8. Reykjavik, Iceland: The capital city, known for its modernist architecture and vibrant cultural scene.\": [64.1265, -21.8174],\n",
    "}\n",
    "\n",
    "countries_to_highlight = [\"China\", \"Mexico\", \"United States\", \"Canada\", \"Guatemala\", \"Honduras\", \"Spain\", \"United Kingdom\", \"Austria\", \"Italy\", \"France\", \"Sweden\", \"Iceland\", \"Greece\", \"Albania\", \"Türkiye\"]\n"
   ]
  },
  {
   "cell_type": "code",
   "execution_count": 4,
   "metadata": {},
   "outputs": [
    {
     "name": "stdout",
     "output_type": "stream",
     "text": [
      "Map has been saved to map_route.html\n",
      "Warning: 'Turkey' not found in pycountry database.\n",
      "Map has been saved to highlighted_countries_map.html\n"
     ]
    }
   ],
   "source": [
    "import folium\n",
    "import geopandas as gpd\n",
    "import pycountry\n",
    "from folium import IFrame\n",
    "\n",
    "def create_auto_centered_map(locations, output_file=\"map_route.html\"):\n",
    "    # Initialize map without specifying center and zoom\n",
    "    auto_center_map = folium.Map()\n",
    "\n",
    "    # Add all locations to the map\n",
    "    for location, coordinates in locations.items():\n",
    "        # Split location name and description\n",
    "        title, description = location.split(\": \", 1)\n",
    "        \n",
    "        # Generate link to corresponding .md file\n",
    "        # Create HTML content for popup with short description and link\n",
    "        html_content = f\"\"\"\n",
    "        <div style=\"font-family: Arial, sans-serif; font-size: 12px;\">\n",
    "            <b>{title}</b><br>\n",
    "            {description.split('.')[0]}.<br>\n",
    "        </div>\n",
    "        \"\"\"\n",
    "        iframe = IFrame(html_content, width=250, height=150)  # Adjust popup size\n",
    "\n",
    "        # Add marker with formatted popup\n",
    "        folium.Marker(\n",
    "            location=coordinates,\n",
    "            popup=folium.Popup(iframe),\n",
    "        ).add_to(auto_center_map)\n",
    "\n",
    "    # Add edges from i to i+1\n",
    "    locations_list = list(locations.values())\n",
    "    for i in range(len(locations_list) - 1):\n",
    "        folium.PolyLine(locations_list[i:i+2], color=\"blue\", weight=2.5, opacity=1).add_to(auto_center_map)\n",
    "\n",
    "    # Save map to HTML file\n",
    "    auto_center_map.save(output_file)\n",
    "    print(f\"Map has been saved to {output_file}\")\n",
    "\n",
    "def highlight_countries_on_map(countries, shapefile_path, output_file=\"highlighted_countries_map.html\"):\n",
    "    # Load the world shapefile from the local file\n",
    "    world = gpd.read_file(shapefile_path)\n",
    "\n",
    "    # Convert country names to ISO Alpha-3 codes using pycountry\n",
    "    country_codes = []\n",
    "    for country in countries:\n",
    "        try:\n",
    "            country_code = pycountry.countries.lookup(country).alpha_3\n",
    "            country_codes.append(country_code)\n",
    "        except LookupError:\n",
    "            print(f\"Warning: '{country}' not found in pycountry database.\")\n",
    "\n",
    "    # Filter for the specified countries by ISO code\n",
    "    highlighted = world[world[\"ADM0_A3\"].isin(country_codes)]\n",
    "\n",
    "    # Initialize a folium map centered globally\n",
    "    world_map = folium.Map(location=[20, 0], zoom_start=2)\n",
    "\n",
    "    # Add highlighted countries to the map in red\n",
    "    folium.GeoJson(\n",
    "        highlighted,\n",
    "        style_function=lambda x: {'fillColor': 'red', 'color': 'black', 'weight': 0.5, 'fillOpacity': 0.7}\n",
    "    ).add_to(world_map)\n",
    "\n",
    "    # Save the map to an HTML file\n",
    "    world_map.save(output_file)\n",
    "    print(f\"Map has been saved to {output_file}\")\n",
    "\n",
    "create_auto_centered_map(all_locations)\n",
    "\n",
    "# List of countries to highlight\n",
    "\n",
    "# Call the function to highlight countries and save to HTML\n",
    "highlight_countries_on_map(countries_to_highlight, shapefile_path=\"/Users/songye03/Desktop/me/ne_110m_admin_0_countries/ne_110m_admin_0_countries.shp\")"
   ]
  },
  {
   "cell_type": "code",
   "execution_count": 5,
   "metadata": {
    "vscode": {
     "languageId": "html"
    }
   },
   "outputs": [
    {
     "name": "stdout",
     "output_type": "stream",
     "text": [
      "HTML file has been created: _includes/locations_list.html\n"
     ]
    }
   ],
   "source": [
    "# Generate the HTML content\n",
    "html_content = \"\"\"\n",
    "<html lang=\"en\">\n",
    "<head>\n",
    "    <meta charset=\"UTF-8\">\n",
    "    <meta name=\"viewport\" content=\"width=device-width, initial-scale=1.0\">\n",
    "    <title>Travel Locations</title>\n",
    "    <style>\n",
    "        body { font-family: Arial, sans-serif; line-height: 1.6; margin: 2em; }\n",
    "        h1 { text-align: center; }\n",
    "        ul { list-style-type: none; padding: 0; }\n",
    "        li { margin-bottom: 1em; }\n",
    "        a { text-decoration: none; color: #007BFF; }\n",
    "        a:hover { text-decoration: underline; }\n",
    "    </style>\n",
    "</head>\n",
    "<body>\n",
    "    <h1>Travel Locations</h1>\n",
    "    <ul>\n",
    "\"\"\"\n",
    "\n",
    "# Add each location with its description and hyperlink\n",
    "for location in all_locations:\n",
    "    title, description = location.split(\": \", 1)\n",
    "    # Update the city_name links to point to blog posts\n",
    "    city_name = \" \".join(title.split(\". \", 1)[-1].split(\",\")[0].strip().split()).lower().replace(\" \", \"-\")\n",
    "    html_content += f\"\"\"\n",
    "        <li>\n",
    "            <strong>{title.split(\". \", 1)[-1]}</strong>: {description}\n",
    "            <br>\n",
    "            <a href=\"/{city_name}/\" target=\"_blank\">Read more</a>\n",
    "        </li>\n",
    "    \"\"\"\n",
    "\n",
    "# Close the HTML tags\n",
    "html_content += \"\"\"\n",
    "    </ul>\n",
    "</body>\n",
    "</html>\n",
    "\"\"\"\n",
    "\n",
    "# Save the HTML content to a file\n",
    "output_file = \"_includes/locations_list.html\"\n",
    "with open(output_file, \"w\", encoding=\"utf-8\") as file:\n",
    "    file.write(html_content)\n",
    "\n",
    "print(f\"HTML file has been created: {output_file}\")"
   ]
  },
  {
   "cell_type": "code",
   "execution_count": null,
   "metadata": {},
   "outputs": [],
   "source": []
  }
 ],
 "metadata": {
  "kernelspec": {
   "display_name": ".venv",
   "language": "python",
   "name": "python3"
  },
  "language_info": {
   "codemirror_mode": {
    "name": "ipython",
    "version": 3
   },
   "file_extension": ".py",
   "mimetype": "text/x-python",
   "name": "python",
   "nbconvert_exporter": "python",
   "pygments_lexer": "ipython3",
   "version": "3.11.10"
  }
 },
 "nbformat": 4,
 "nbformat_minor": 2
}
